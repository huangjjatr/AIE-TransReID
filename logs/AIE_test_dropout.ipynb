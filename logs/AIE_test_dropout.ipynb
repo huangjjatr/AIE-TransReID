{
 "cells": [
  {
   "cell_type": "code",
   "execution_count": 1,
   "id": "949a0b1f-9342-4b29-943b-93d799d4168c",
   "metadata": {},
   "outputs": [],
   "source": [
    "import matplotlib.pyplot as plt\n",
    "%matplotlib inline\n",
    "import re\n",
    "import numpy as np"
   ]
  },
  {
   "cell_type": "code",
   "execution_count": 2,
   "id": "c07fbae1-9e88-4554-becf-daa48b43ea98",
   "metadata": {},
   "outputs": [],
   "source": [
    "def analyze(filename):\n",
    "    mAP = []\n",
    "    R1 = []\n",
    "    file = open(filename,'r')\n",
    "    textline = file.readline()\n",
    "    while textline != '':\n",
    "        data = textline.split(':')\n",
    "        if 'mAP' in textline:\n",
    "            value = float(re.findall(r\"\\d*\\.\\d+\", data[-1])[0])\n",
    "            #print(f'mAP = {value}%')\n",
    "            mAP.append(value)\n",
    "        elif 'Rank-1 ' in textline:\n",
    "            value = float(re.findall(r\"\\d*\\.\\d+\", data[-1])[0])\n",
    "            R1.append(value)\n",
    "            #print(f'R1 = {value}%')\n",
    "           \n",
    "        textline = file.readline()\n",
    "        \n",
    "    file.close()\n",
    "    mAP = np.array(mAP)\n",
    "    R1 = np.array(R1)\n",
    "\n",
    "    return mAP, R1"
   ]
  },
  {
   "cell_type": "markdown",
   "id": "a796766c-8bd3-4256-b01d-29a3fa844647",
   "metadata": {},
   "source": [
    "# Market1501数据集测试结果"
   ]
  },
  {
   "cell_type": "code",
   "execution_count": 4,
   "id": "37800b2a-ebe5-4e59-8c72-7bf98bbe9db0",
   "metadata": {},
   "outputs": [
    {
     "data": {
      "text/plain": [
       "(98.11000000000001, 0.12999999999999873, 99.52, 0.07483314773547457)"
      ]
     },
     "execution_count": 4,
     "metadata": {},
     "output_type": "execute_result"
    }
   ],
   "source": [
    "# dropout ratio = 1%\n",
    "mAP, R1 = analyze('market_attribute/mr0.01.log')\n",
    "np.mean(mAP), np.std(mAP), np.mean(R1), np.std(R1)"
   ]
  },
  {
   "cell_type": "code",
   "execution_count": 3,
   "id": "679e0d22-994a-4b4d-bb11-28e027b2b08c",
   "metadata": {},
   "outputs": [
    {
     "data": {
      "text/plain": [
       "(98.11, 0.16401219466856876, 99.57, 0.07810249675906447)"
      ]
     },
     "execution_count": 3,
     "metadata": {},
     "output_type": "execute_result"
    }
   ],
   "source": [
    "# dropout ratio = 2%\n",
    "mAP, R1 = analyze('market_attribute/mr0.02.log')\n",
    "np.mean(mAP), np.std(mAP), np.mean(R1), np.std(R1)"
   ]
  },
  {
   "cell_type": "code",
   "execution_count": 5,
   "id": "f172bebb-2aa0-47c7-8213-12ac0d47299a",
   "metadata": {},
   "outputs": [
    {
     "data": {
      "text/plain": [
       "(98.11999999999999, 0.14000000000000037, 99.51, 0.11357816691600427)"
      ]
     },
     "execution_count": 5,
     "metadata": {},
     "output_type": "execute_result"
    }
   ],
   "source": [
    "# dropout ratio = 5%\n",
    "mAP, R1 = analyze('market_attribute/mr0.05.log')\n",
    "np.mean(mAP), np.std(mAP), np.mean(R1), np.std(R1)"
   ]
  },
  {
   "cell_type": "code",
   "execution_count": 6,
   "id": "8c1819b9-48b9-45d1-8e40-7187d823bd99",
   "metadata": {},
   "outputs": [
    {
     "data": {
      "text/plain": [
       "(98.13, 0.10049875621120956, 99.55999999999999, 0.06633249580710422)"
      ]
     },
     "execution_count": 6,
     "metadata": {},
     "output_type": "execute_result"
    }
   ],
   "source": [
    "# dropout ratio = 10%\n",
    "mAP, R1 = analyze('market_attribute/mr0.1.log')\n",
    "np.mean(mAP), np.std(mAP), np.mean(R1), np.std(R1)"
   ]
  },
  {
   "cell_type": "code",
   "execution_count": 7,
   "id": "3a4422a4-813e-47e9-986f-224c972a624a",
   "metadata": {},
   "outputs": [
    {
     "data": {
      "text/plain": [
       "(98.11000000000001, 0.13000000000000092, 99.53, 0.0781024967590621)"
      ]
     },
     "execution_count": 7,
     "metadata": {},
     "output_type": "execute_result"
    }
   ],
   "source": [
    "# dropout ratio = 20%\n",
    "mAP, R1 = analyze('market_attribute/mr0.2.log')\n",
    "np.mean(mAP), np.std(mAP), np.mean(R1), np.std(R1)"
   ]
  },
  {
   "cell_type": "markdown",
   "id": "eb702f98-b3db-49a3-a771-c1ca6058665a",
   "metadata": {},
   "source": [
    "# DuekMTMC数据集测试结果"
   ]
  },
  {
   "cell_type": "code",
   "execution_count": 8,
   "id": "48e6eb68-67ae-4f3b-8223-0f3d31412560",
   "metadata": {},
   "outputs": [
    {
     "data": {
      "text/plain": [
       "(93.55, 0.1499999999999962, 97.6, 0.2828427124746185)"
      ]
     },
     "execution_count": 8,
     "metadata": {},
     "output_type": "execute_result"
    }
   ],
   "source": [
    "# dropout ratio = 1%\n",
    "mAPd, R1d = analyze('duke_attribute/dr0.01.log')\n",
    "np.mean(mAPd),np.std(mAPd), np.mean(R1d), np.std(R1d)"
   ]
  },
  {
   "cell_type": "code",
   "execution_count": 9,
   "id": "6c099ed8-b5b4-4b23-82ec-c4a970a3c75f",
   "metadata": {},
   "outputs": [
    {
     "data": {
      "text/plain": [
       "(93.57000000000001, 0.1899999999999998, 97.66, 0.2799999999999995)"
      ]
     },
     "execution_count": 9,
     "metadata": {},
     "output_type": "execute_result"
    }
   ],
   "source": [
    "# dropout ratio = 2%\n",
    "mAPd, R1d = analyze('duke_attribute/dr0.02.log')\n",
    "np.mean(mAPd),np.std(mAPd), np.mean(R1d), np.std(R1d)"
   ]
  },
  {
   "cell_type": "code",
   "execution_count": 10,
   "id": "74c5e075-37cf-4991-b0f2-3783885c654a",
   "metadata": {},
   "outputs": [
    {
     "data": {
      "text/plain": [
       "(93.53, 0.20999999999999938, 97.61, 0.17000000000000096)"
      ]
     },
     "execution_count": 10,
     "metadata": {},
     "output_type": "execute_result"
    }
   ],
   "source": [
    "# dropout ratio = 5%\n",
    "mAPd, R1d = analyze('duke_attribute/dr0.05.log')\n",
    "np.mean(mAPd),np.std(mAPd), np.mean(R1d), np.std(R1d)"
   ]
  },
  {
   "cell_type": "code",
   "execution_count": 11,
   "id": "b91dfbe9-c686-47a2-9d98-c30214f904ac",
   "metadata": {},
   "outputs": [
    {
     "data": {
      "text/plain": [
       "(93.53999999999999,\n",
       " 0.16248076809271925,\n",
       " 97.53999999999999,\n",
       " 0.18547236990991195)"
      ]
     },
     "execution_count": 11,
     "metadata": {},
     "output_type": "execute_result"
    }
   ],
   "source": [
    "# dropout ratio = 10%\n",
    "mAPd, R1d = analyze('duke_attribute/dr0.1.log')\n",
    "np.mean(mAPd),np.std(mAPd), np.mean(R1d), np.std(R1d)"
   ]
  },
  {
   "cell_type": "code",
   "execution_count": 12,
   "id": "58714bbc-cc09-44f8-91c8-17eb79212e94",
   "metadata": {},
   "outputs": [
    {
     "data": {
      "text/plain": [
       "(93.61, 0.11357816691600477, 97.64, 0.2537715508089928)"
      ]
     },
     "execution_count": 12,
     "metadata": {},
     "output_type": "execute_result"
    }
   ],
   "source": [
    "# dropout ratio = 20%\n",
    "mAPd, R1d = analyze('duke_attribute/dr0.2.log')\n",
    "np.mean(mAPd),np.std(mAPd), np.mean(R1d), np.std(R1d)"
   ]
  }
 ],
 "metadata": {
  "kernelspec": {
   "display_name": "Python 3 (ipykernel)",
   "language": "python",
   "name": "python3"
  },
  "language_info": {
   "codemirror_mode": {
    "name": "ipython",
    "version": 3
   },
   "file_extension": ".py",
   "mimetype": "text/x-python",
   "name": "python",
   "nbconvert_exporter": "python",
   "pygments_lexer": "ipython3",
   "version": "3.8.10"
  }
 },
 "nbformat": 4,
 "nbformat_minor": 5
}
