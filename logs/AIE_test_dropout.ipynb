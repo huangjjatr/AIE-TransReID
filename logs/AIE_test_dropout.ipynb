{
 "cells": [
  {
   "cell_type": "code",
   "execution_count": 1,
   "id": "949a0b1f-9342-4b29-943b-93d799d4168c",
   "metadata": {},
   "outputs": [],
   "source": [
    "import matplotlib.pyplot as plt\n",
    "%matplotlib inline\n",
    "import re\n",
    "import numpy as np"
   ]
  },
  {
   "cell_type": "code",
   "execution_count": 2,
   "id": "c07fbae1-9e88-4554-becf-daa48b43ea98",
   "metadata": {},
   "outputs": [],
   "source": [
    "def analyze(filename):\n",
    "    mAP = []\n",
    "    R1 = []\n",
    "    file = open(filename,'r')\n",
    "    textline = file.readline()\n",
    "    while textline != '':\n",
    "        data = textline.split(':')\n",
    "        if 'mAP' in textline:\n",
    "            value = float(re.findall(r\"\\d*\\.\\d+\", data[-1])[0])\n",
    "            #print(f'mAP = {value}%')\n",
    "            mAP.append(value)\n",
    "        elif 'Rank-1 ' in textline:\n",
    "            value = float(re.findall(r\"\\d*\\.\\d+\", data[-1])[0])\n",
    "            R1.append(value)\n",
    "            #print(f'R1 = {value}%')\n",
    "           \n",
    "        textline = file.readline()\n",
    "        \n",
    "    file.close()\n",
    "    mAP = np.array(mAP)\n",
    "    R1 = np.array(R1)\n",
    "\n",
    "    return mAP, R1"
   ]
  },
  {
   "cell_type": "markdown",
   "id": "a796766c-8bd3-4256-b01d-29a3fa844647",
   "metadata": {},
   "source": [
    "# Market1501数据集测试结果"
   ]
  },
  {
   "cell_type": "code",
   "execution_count": 3,
   "id": "56e374a0-56ba-4a5a-a21e-bc3a37223731",
   "metadata": {},
   "outputs": [],
   "source": [
    "import pandas as pd\n",
    "sigma = [0.01, 0.02, 0.05, 0.1, 0.2]\n",
    "mAP_avg_market = []\n",
    "mAP_std_market = []\n",
    "R1_avg_market = []\n",
    "R1_std_market = []"
   ]
  },
  {
   "cell_type": "code",
   "execution_count": 4,
   "id": "37800b2a-ebe5-4e59-8c72-7bf98bbe9db0",
   "metadata": {},
   "outputs": [],
   "source": [
    "# dropout ratio = 1%\n",
    "mAP, R1 = analyze('market_attribute/mr0.01.log')\n",
    "mAP_avg_market.append(np.mean(mAP))\n",
    "mAP_std_market.append(np.std(mAP))\n",
    "R1_avg_market.append(np.mean(R1))\n",
    "R1_std_market.append(np.std(R1))"
   ]
  },
  {
   "cell_type": "code",
   "execution_count": 5,
   "id": "679e0d22-994a-4b4d-bb11-28e027b2b08c",
   "metadata": {},
   "outputs": [],
   "source": [
    "# dropout ratio = 2%\n",
    "mAP, R1 = analyze('market_attribute/mr0.02.log')\n",
    "mAP_avg_market.append(np.mean(mAP))\n",
    "mAP_std_market.append(np.std(mAP))\n",
    "R1_avg_market.append(np.mean(R1))\n",
    "R1_std_market.append(np.std(R1))"
   ]
  },
  {
   "cell_type": "code",
   "execution_count": 6,
   "id": "f172bebb-2aa0-47c7-8213-12ac0d47299a",
   "metadata": {},
   "outputs": [],
   "source": [
    "# dropout ratio = 5%\n",
    "mAP, R1 = analyze('market_attribute/mr0.05.log')\n",
    "mAP_avg_market.append(np.mean(mAP))\n",
    "mAP_std_market.append(np.std(mAP))\n",
    "R1_avg_market.append(np.mean(R1))\n",
    "R1_std_market.append(np.std(R1))"
   ]
  },
  {
   "cell_type": "code",
   "execution_count": 7,
   "id": "8c1819b9-48b9-45d1-8e40-7187d823bd99",
   "metadata": {},
   "outputs": [],
   "source": [
    "# dropout ratio = 10%\n",
    "mAP, R1 = analyze('market_attribute/mr0.1.log')\n",
    "mAP_avg_market.append(np.mean(mAP))\n",
    "mAP_std_market.append(np.std(mAP))\n",
    "R1_avg_market.append(np.mean(R1))\n",
    "R1_std_market.append(np.std(R1))"
   ]
  },
  {
   "cell_type": "code",
   "execution_count": 8,
   "id": "3a4422a4-813e-47e9-986f-224c972a624a",
   "metadata": {},
   "outputs": [],
   "source": [
    "# dropout ratio = 20%\n",
    "mAP, R1 = analyze('market_attribute/mr0.2.log')\n",
    "mAP_avg_market.append(np.mean(mAP))\n",
    "mAP_std_market.append(np.std(mAP))\n",
    "R1_avg_market.append(np.mean(R1))\n",
    "R1_std_market.append(np.std(R1))"
   ]
  },
  {
   "cell_type": "code",
   "execution_count": 9,
   "id": "f4c2e9dd-5685-44d1-bbff-6ceb4082f239",
   "metadata": {},
   "outputs": [],
   "source": [
    "data_market = {'dropout_rate' : sigma,\n",
    "      'mAP_mean' : mAP_avg_market, \n",
    "      'mAP_std' : mAP_std_market,\n",
    "      'R1_mean' : R1_avg_market,\n",
    "      'R1_std' : R1_std_market\n",
    "     }\n",
    "df = pd.DataFrame(data_market)"
   ]
  },
  {
   "cell_type": "markdown",
   "id": "eb702f98-b3db-49a3-a771-c1ca6058665a",
   "metadata": {},
   "source": [
    "# DuekMTMC数据集测试结果"
   ]
  },
  {
   "cell_type": "code",
   "execution_count": 10,
   "id": "9e82c404-0413-43d6-adfd-bb12829f7aca",
   "metadata": {},
   "outputs": [],
   "source": [
    "mAP_avg_duke = []\n",
    "mAP_std_duke = []\n",
    "R1_avg_duke = []\n",
    "R1_std_duke = []"
   ]
  },
  {
   "cell_type": "code",
   "execution_count": 11,
   "id": "48e6eb68-67ae-4f3b-8223-0f3d31412560",
   "metadata": {},
   "outputs": [],
   "source": [
    "# dropout ratio = 1%\n",
    "mAPd, R1d = analyze('duke_attribute/dr0.01.log')\n",
    "mAP_avg_duke.append(np.mean(mAPd))\n",
    "mAP_std_duke.append(np.std(mAPd))\n",
    "R1_avg_duke.append(np.mean(R1d))\n",
    "R1_std_duke.append(np.std(R1d))"
   ]
  },
  {
   "cell_type": "code",
   "execution_count": 12,
   "id": "6c099ed8-b5b4-4b23-82ec-c4a970a3c75f",
   "metadata": {},
   "outputs": [],
   "source": [
    "# dropout ratio = 2%\n",
    "mAPd, R1d = analyze('duke_attribute/dr0.02.log')\n",
    "mAP_avg_duke.append(np.mean(mAPd))\n",
    "mAP_std_duke.append(np.std(mAPd))\n",
    "R1_avg_duke.append(np.mean(R1d))\n",
    "R1_std_duke.append(np.std(R1d))"
   ]
  },
  {
   "cell_type": "code",
   "execution_count": 13,
   "id": "74c5e075-37cf-4991-b0f2-3783885c654a",
   "metadata": {},
   "outputs": [],
   "source": [
    "# dropout ratio = 5%\n",
    "mAPd, R1d = analyze('duke_attribute/dr0.05.log')\n",
    "mAP_avg_duke.append(np.mean(mAPd))\n",
    "mAP_std_duke.append(np.std(mAPd))\n",
    "R1_avg_duke.append(np.mean(R1d))\n",
    "R1_std_duke.append(np.std(R1d))"
   ]
  },
  {
   "cell_type": "code",
   "execution_count": 14,
   "id": "b91dfbe9-c686-47a2-9d98-c30214f904ac",
   "metadata": {},
   "outputs": [],
   "source": [
    "# dropout ratio = 10%\n",
    "mAPd, R1d = analyze('duke_attribute/dr0.1.log')\n",
    "mAP_avg_duke.append(np.mean(mAPd))\n",
    "mAP_std_duke.append(np.std(mAPd))\n",
    "R1_avg_duke.append(np.mean(R1d))\n",
    "R1_std_duke.append(np.std(R1d))"
   ]
  },
  {
   "cell_type": "code",
   "execution_count": 15,
   "id": "58714bbc-cc09-44f8-91c8-17eb79212e94",
   "metadata": {},
   "outputs": [],
   "source": [
    "# dropout ratio = 20%\n",
    "mAPd, R1d = analyze('duke_attribute/dr0.2.log')\n",
    "mAP_avg_duke.append(np.mean(mAPd))\n",
    "mAP_std_duke.append(np.std(mAPd))\n",
    "R1_avg_duke.append(np.mean(R1d))\n",
    "R1_std_duke.append(np.std(R1d))"
   ]
  },
  {
   "cell_type": "code",
   "execution_count": 16,
   "id": "5c4d86d5-7534-41b0-8d51-f5480e664546",
   "metadata": {},
   "outputs": [],
   "source": [
    "data_duke = {'dropout_rate' : sigma,\n",
    "             'mAP_mean' : mAP_avg_duke,\n",
    "             'mAP_std' : mAP_std_duke,\n",
    "             'R1_mean' : R1_avg_duke,\n",
    "             'R1_std' : R1_std_duke\n",
    "            }\n",
    "df1 = pd.DataFrame(data_duke)"
   ]
  },
  {
   "cell_type": "code",
   "execution_count": 17,
   "id": "be87cea7-2120-4ba4-898b-4ed8094da01b",
   "metadata": {},
   "outputs": [
    {
     "name": "stdout",
     "output_type": "stream",
     "text": [
      "-------- Attribute dropout results on Market1501 ---------\n"
     ]
    },
    {
     "data": {
      "text/html": [
       "<div>\n",
       "<style scoped>\n",
       "    .dataframe tbody tr th:only-of-type {\n",
       "        vertical-align: middle;\n",
       "    }\n",
       "\n",
       "    .dataframe tbody tr th {\n",
       "        vertical-align: top;\n",
       "    }\n",
       "\n",
       "    .dataframe thead th {\n",
       "        text-align: right;\n",
       "    }\n",
       "</style>\n",
       "<table border=\"1\" class=\"dataframe\">\n",
       "  <thead>\n",
       "    <tr style=\"text-align: right;\">\n",
       "      <th></th>\n",
       "      <th>dropout_rate</th>\n",
       "      <th>mAP_mean</th>\n",
       "      <th>mAP_std</th>\n",
       "      <th>R1_mean</th>\n",
       "      <th>R1_std</th>\n",
       "    </tr>\n",
       "  </thead>\n",
       "  <tbody>\n",
       "    <tr>\n",
       "      <th>0</th>\n",
       "      <td>0.01</td>\n",
       "      <td>98.11</td>\n",
       "      <td>0.130000</td>\n",
       "      <td>99.52</td>\n",
       "      <td>0.074833</td>\n",
       "    </tr>\n",
       "    <tr>\n",
       "      <th>1</th>\n",
       "      <td>0.02</td>\n",
       "      <td>98.11</td>\n",
       "      <td>0.164012</td>\n",
       "      <td>99.57</td>\n",
       "      <td>0.078102</td>\n",
       "    </tr>\n",
       "    <tr>\n",
       "      <th>2</th>\n",
       "      <td>0.05</td>\n",
       "      <td>98.12</td>\n",
       "      <td>0.140000</td>\n",
       "      <td>99.51</td>\n",
       "      <td>0.113578</td>\n",
       "    </tr>\n",
       "    <tr>\n",
       "      <th>3</th>\n",
       "      <td>0.10</td>\n",
       "      <td>98.13</td>\n",
       "      <td>0.100499</td>\n",
       "      <td>99.56</td>\n",
       "      <td>0.066332</td>\n",
       "    </tr>\n",
       "    <tr>\n",
       "      <th>4</th>\n",
       "      <td>0.20</td>\n",
       "      <td>98.11</td>\n",
       "      <td>0.130000</td>\n",
       "      <td>99.53</td>\n",
       "      <td>0.078102</td>\n",
       "    </tr>\n",
       "  </tbody>\n",
       "</table>\n",
       "</div>"
      ],
      "text/plain": [
       "   dropout_rate  mAP_mean   mAP_std  R1_mean    R1_std\n",
       "0          0.01     98.11  0.130000    99.52  0.074833\n",
       "1          0.02     98.11  0.164012    99.57  0.078102\n",
       "2          0.05     98.12  0.140000    99.51  0.113578\n",
       "3          0.10     98.13  0.100499    99.56  0.066332\n",
       "4          0.20     98.11  0.130000    99.53  0.078102"
      ]
     },
     "execution_count": 17,
     "metadata": {},
     "output_type": "execute_result"
    }
   ],
   "source": [
    "print('-------- Attribute dropout results on Market1501 ---------')\n",
    "df # tesing on market 1501 dataset with attribute "
   ]
  },
  {
   "cell_type": "code",
   "execution_count": 18,
   "id": "48bc8569-19dd-4c6c-ba65-d63bb8fec1d9",
   "metadata": {},
   "outputs": [
    {
     "name": "stdout",
     "output_type": "stream",
     "text": [
      "--------- Attribute dropout results on DukeMTMC ---------\n"
     ]
    },
    {
     "data": {
      "text/html": [
       "<div>\n",
       "<style scoped>\n",
       "    .dataframe tbody tr th:only-of-type {\n",
       "        vertical-align: middle;\n",
       "    }\n",
       "\n",
       "    .dataframe tbody tr th {\n",
       "        vertical-align: top;\n",
       "    }\n",
       "\n",
       "    .dataframe thead th {\n",
       "        text-align: right;\n",
       "    }\n",
       "</style>\n",
       "<table border=\"1\" class=\"dataframe\">\n",
       "  <thead>\n",
       "    <tr style=\"text-align: right;\">\n",
       "      <th></th>\n",
       "      <th>dropout_rate</th>\n",
       "      <th>mAP_mean</th>\n",
       "      <th>mAP_std</th>\n",
       "      <th>R1_mean</th>\n",
       "      <th>R1_std</th>\n",
       "    </tr>\n",
       "  </thead>\n",
       "  <tbody>\n",
       "    <tr>\n",
       "      <th>0</th>\n",
       "      <td>0.01</td>\n",
       "      <td>93.55</td>\n",
       "      <td>0.150000</td>\n",
       "      <td>97.60</td>\n",
       "      <td>0.282843</td>\n",
       "    </tr>\n",
       "    <tr>\n",
       "      <th>1</th>\n",
       "      <td>0.02</td>\n",
       "      <td>93.57</td>\n",
       "      <td>0.190000</td>\n",
       "      <td>97.66</td>\n",
       "      <td>0.280000</td>\n",
       "    </tr>\n",
       "    <tr>\n",
       "      <th>2</th>\n",
       "      <td>0.05</td>\n",
       "      <td>93.53</td>\n",
       "      <td>0.210000</td>\n",
       "      <td>97.61</td>\n",
       "      <td>0.170000</td>\n",
       "    </tr>\n",
       "    <tr>\n",
       "      <th>3</th>\n",
       "      <td>0.10</td>\n",
       "      <td>93.54</td>\n",
       "      <td>0.162481</td>\n",
       "      <td>97.54</td>\n",
       "      <td>0.185472</td>\n",
       "    </tr>\n",
       "    <tr>\n",
       "      <th>4</th>\n",
       "      <td>0.20</td>\n",
       "      <td>93.61</td>\n",
       "      <td>0.113578</td>\n",
       "      <td>97.64</td>\n",
       "      <td>0.253772</td>\n",
       "    </tr>\n",
       "  </tbody>\n",
       "</table>\n",
       "</div>"
      ],
      "text/plain": [
       "   dropout_rate  mAP_mean   mAP_std  R1_mean    R1_std\n",
       "0          0.01     93.55  0.150000    97.60  0.282843\n",
       "1          0.02     93.57  0.190000    97.66  0.280000\n",
       "2          0.05     93.53  0.210000    97.61  0.170000\n",
       "3          0.10     93.54  0.162481    97.54  0.185472\n",
       "4          0.20     93.61  0.113578    97.64  0.253772"
      ]
     },
     "execution_count": 18,
     "metadata": {},
     "output_type": "execute_result"
    }
   ],
   "source": [
    "print('--------- Attribute dropout results on DukeMTMC ---------')\n",
    "df1 # tesing on DukeMTMC dataset with attribute text dropout"
   ]
  },
  {
   "cell_type": "code",
   "execution_count": null,
   "id": "b0eb2681-792c-44b6-9ef8-adbf61f8cc02",
   "metadata": {},
   "outputs": [],
   "source": []
  }
 ],
 "metadata": {
  "kernelspec": {
   "display_name": "Python 3 (ipykernel)",
   "language": "python",
   "name": "python3"
  },
  "language_info": {
   "codemirror_mode": {
    "name": "ipython",
    "version": 3
   },
   "file_extension": ".py",
   "mimetype": "text/x-python",
   "name": "python",
   "nbconvert_exporter": "python",
   "pygments_lexer": "ipython3",
   "version": "3.8.10"
  }
 },
 "nbformat": 4,
 "nbformat_minor": 5
}
